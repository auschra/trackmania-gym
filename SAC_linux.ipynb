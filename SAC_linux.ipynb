{
 "cells": [
  {
   "cell_type": "code",
   "execution_count": 22,
   "metadata": {},
   "outputs": [],
   "source": [
    "import gettelemetry as client\n",
    "import gamepad as gp\n",
    "import window as gwd\n",
    "import wandb\n",
    "import os\n",
    "\n",
    "import torch\n",
    "import torch.nn.functional as F\n",
    "import mss\n",
    "import cv2\n",
    "import time\n",
    "import numpy as np\n",
    "\n",
    "import pywinctl as gw\n",
    "import vgamepad as vg\n",
    "import gymnasium as gym\n",
    "from gymnasium import spaces\n",
    "from stable_baselines3 import SAC\n",
    "from stable_baselines3.common.vec_env import DummyVecEnv\n",
    "from stable_baselines3.common.callbacks import BaseCallback, EvalCallback, CheckpointCallback\n",
    "from stable_baselines3.common.monitor import Monitor\n",
    "from stable_baselines3.common.policies import BaseFeaturesExtractor\n",
    "from stable_baselines3.common.callbacks import CallbackList\n",
    "\n",
    "import torchvision.models as models\n",
    "from torchvision import transforms"
   ]
  },
  {
   "cell_type": "code",
   "execution_count": 16,
   "metadata": {},
   "outputs": [],
   "source": [
    "# parameters\n",
    "\n",
    "steps = 100000"
   ]
  },
  {
   "cell_type": "code",
   "execution_count": 17,
   "metadata": {},
   "outputs": [
    {
     "name": "stderr",
     "output_type": "stream",
     "text": [
      "\u001b[34m\u001b[1mwandb\u001b[0m: \u001b[33mWARNING\u001b[0m Calling wandb.login() after wandb.init() has no effect.\n"
     ]
    },
    {
     "data": {
      "text/html": [
       "Finishing last run (ID:ugms3pha) before initializing another..."
      ],
      "text/plain": [
       "<IPython.core.display.HTML object>"
      ]
     },
     "metadata": {},
     "output_type": "display_data"
    },
    {
     "data": {
      "text/html": [
       " View run <strong style=\"color:#cdcd00\">apricot-spaceship-25</strong> at: <a href='https://wandb.ai/auschra3-massachusetts-institute-of-technology/trackmania_sac/runs/ugms3pha' target=\"_blank\">https://wandb.ai/auschra3-massachusetts-institute-of-technology/trackmania_sac/runs/ugms3pha</a><br/> View project at: <a href='https://wandb.ai/auschra3-massachusetts-institute-of-technology/trackmania_sac' target=\"_blank\">https://wandb.ai/auschra3-massachusetts-institute-of-technology/trackmania_sac</a><br/>Synced 5 W&B file(s), 0 media file(s), 2 artifact file(s) and 0 other file(s)"
      ],
      "text/plain": [
       "<IPython.core.display.HTML object>"
      ]
     },
     "metadata": {},
     "output_type": "display_data"
    },
    {
     "data": {
      "text/html": [
       "Find logs at: <code>./wandb/run-20241114_142840-ugms3pha/logs</code>"
      ],
      "text/plain": [
       "<IPython.core.display.HTML object>"
      ]
     },
     "metadata": {},
     "output_type": "display_data"
    },
    {
     "data": {
      "text/html": [
       "Successfully finished last run (ID:ugms3pha). Initializing new run:<br/>"
      ],
      "text/plain": [
       "<IPython.core.display.HTML object>"
      ]
     },
     "metadata": {},
     "output_type": "display_data"
    },
    {
     "data": {
      "text/html": [
       "Tracking run with wandb version 0.18.7"
      ],
      "text/plain": [
       "<IPython.core.display.HTML object>"
      ]
     },
     "metadata": {},
     "output_type": "display_data"
    },
    {
     "data": {
      "text/html": [
       "Run data is saved locally in <code>/home/auschra/ml/trackmania/trackmaniarl/wandb/run-20241114_142908-02tm5pa6</code>"
      ],
      "text/plain": [
       "<IPython.core.display.HTML object>"
      ]
     },
     "metadata": {},
     "output_type": "display_data"
    },
    {
     "data": {
      "text/html": [
       "Syncing run <strong><a href='https://wandb.ai/auschra3-massachusetts-institute-of-technology/trackmania_sac/runs/02tm5pa6' target=\"_blank\">deft-meadow-26</a></strong> to <a href='https://wandb.ai/auschra3-massachusetts-institute-of-technology/trackmania_sac' target=\"_blank\">Weights & Biases</a> (<a href='https://wandb.me/developer-guide' target=\"_blank\">docs</a>)<br/>"
      ],
      "text/plain": [
       "<IPython.core.display.HTML object>"
      ]
     },
     "metadata": {},
     "output_type": "display_data"
    },
    {
     "data": {
      "text/html": [
       " View project at <a href='https://wandb.ai/auschra3-massachusetts-institute-of-technology/trackmania_sac' target=\"_blank\">https://wandb.ai/auschra3-massachusetts-institute-of-technology/trackmania_sac</a>"
      ],
      "text/plain": [
       "<IPython.core.display.HTML object>"
      ]
     },
     "metadata": {},
     "output_type": "display_data"
    },
    {
     "data": {
      "text/html": [
       " View run at <a href='https://wandb.ai/auschra3-massachusetts-institute-of-technology/trackmania_sac/runs/02tm5pa6' target=\"_blank\">https://wandb.ai/auschra3-massachusetts-institute-of-technology/trackmania_sac/runs/02tm5pa6</a>"
      ],
      "text/plain": [
       "<IPython.core.display.HTML object>"
      ]
     },
     "metadata": {},
     "output_type": "display_data"
    },
    {
     "data": {
      "text/html": [
       "<button onClick=\"this.nextSibling.style.display='block';this.style.display='none';\">Display W&B run</button><iframe src='https://wandb.ai/auschra3-massachusetts-institute-of-technology/trackmania_sac/runs/02tm5pa6?jupyter=true' style='border:none;width:100%;height:420px;display:none;'></iframe>"
      ],
      "text/plain": [
       "<wandb.sdk.wandb_run.Run at 0x74166156cc80>"
      ]
     },
     "execution_count": 17,
     "metadata": {},
     "output_type": "execute_result"
    }
   ],
   "source": [
    "wandb.login()\n",
    "wandb.init(project=\"trackmania_sac\")"
   ]
  },
  {
   "cell_type": "code",
   "execution_count": 18,
   "metadata": {},
   "outputs": [],
   "source": [
    "class WindowCap():\n",
    "    def __init__(self, window_name):\n",
    "        self.window_name = window_name\n",
    "        self.window = gw.getWindowsWithTitle(window_name)\n",
    "        if not self.window:\n",
    "            raise Exception(f\"Window with name '{window_name}' not found.\")\n",
    "        self.window = self.window[0]\n",
    "        self.top = self.window.top\n",
    "        self.left = self.window.left\n",
    "        self.width = self.window.width\n",
    "        self.height = self.window.height\n",
    "        self.monitor = {\"top\": self.top, \"left\": self.left, \"width\": self.width, \"height\": self.height}\n",
    "        self.sct = mss.mss()\n",
    "        self.resize = 128\n",
    "\n",
    "    def capture(self):\n",
    "        img = np.array(self.sct.grab(self.monitor))\n",
    "        img = cv2.resize(img, (self.resize, self.resize))       # resize\n",
    "        img = cv2.cvtColor(img, cv2.COLOR_BGRA2GRAY)        # Convert to grayscale\n",
    "        img = img / 255.0           # normalize\n",
    "        return img\n",
    "\n",
    "    def __del__(self):\n",
    "        self.sct.close()\n",
    "        "
   ]
  },
  {
   "cell_type": "code",
   "execution_count": null,
   "metadata": {},
   "outputs": [],
   "source": [
    "class TrackmaniaEnv(gym.Env) :\n",
    "    def __init__(self, window_name=\"Trackmania\"):\n",
    "        super(TrackmaniaEnv, self).__init__()\n",
    "        self.window = WindowCap(window_name)\n",
    "        self.client = client.TMClient()\n",
    "        self.gamepad = gp.GamepadHandler()\n",
    "        self.action_space = gym.spaces.Box(\n",
    "            low=np.array([-1.0, 0.0, 0.0]), # Steering angle from -1 (left) to 1 (right) throttle from 0 to 1, braking 0 to 1\n",
    "            high=np.array([1.0, 1.0, 1.0]), \n",
    "            dtype=np.float32)\n",
    "        self.observation_space = gym.spaces.Box(low=0, high=255, shape=(1, 128, 128), dtype=np.uint8)\n",
    "        self.reward_range = (-np.inf, np.inf)\n",
    "        self.metadata = {'render.modes': ['human']}\n",
    "        self.spec = None\n",
    "        self.terminated = False\n",
    "        self.truncated = False\n",
    "        self.reward = 0\n",
    "        self.prev_action = np.array([0, 0, 0])\n",
    "        self.prev_obs = np.zeros((1, 128, 128), dtype=np.uint8)\n",
    "        \n",
    "        self.id = gwd.get_window_id(\"Trackmania\")      \n",
    "        self.focus = gwd.focus_window(self.id)\n",
    "        self.speed_buffer = []\n",
    "\n",
    "        self.steps = 0\n",
    "        self.episode_reward = 0\n",
    "        self.time_start = 0\n",
    "\n",
    "    def reset(self, seed=None, options=None):\n",
    "        self.gamepad.reset()\n",
    "        self.speed_buffer = []\n",
    "        time.sleep(1.5)\n",
    "        #self.focus = gwd.focus_window(self.id)\n",
    "        if seed is not None:\n",
    "            self.seed(seed)\n",
    "        self.terminated = False\n",
    "        self.reward = 0\n",
    "        self.prev_action = np.array([0, 0, 0])\n",
    "        obs = self.window.capture()\n",
    "        obs = np.expand_dims(obs, axis=0)  # Add channel dimension\n",
    "        obs = obs.astype(np.float32)  # Ensure float32 type\n",
    "        self.time_start = time.time()\n",
    "        \n",
    "        # Return observation and empty info dict\n",
    "        return obs, {}\n",
    "    \n",
    "    def seed(self, seed=None):\n",
    "        np.random.seed(seed)\n",
    "\n",
    "    def step(self, action):\n",
    "        self.steps += 1\n",
    "        # Send the action to the game\n",
    "        #print(action)\n",
    "        self.gamepad.send_action(action)\n",
    "        self.prev_action = action\n",
    "        obs = self.window.capture()  # Capture the current image\n",
    "        telemetry = self.client.retrieve_data()  # Retrieve the telemetry data\n",
    "\n",
    "        # Process telemetry data to compute the reward and determine if the episode is done\n",
    "        checkpoint = telemetry['checkpoint']\n",
    "        lap = telemetry['lap']\n",
    "        speed = telemetry['speed']\n",
    "        position = telemetry['position']\n",
    "        steer = telemetry['steer']\n",
    "        gas = telemetry['gas']\n",
    "        brake = telemetry['brake']\n",
    "        finished = telemetry['finished']\n",
    "        acceleration = telemetry['acceleration']\n",
    "        jerk = telemetry['jerk']\n",
    "        aim_yaw = telemetry['aim_yaw']\n",
    "        aim_pitch = telemetry['aim_pitch']\n",
    "        fl_steer_angle = telemetry['fl_steer_angle']\n",
    "        fr_steer_angle = telemetry['fr_steer_angle']\n",
    "        fl_slip = telemetry['fl_slip']\n",
    "        fr_slip = telemetry['fr_slip']\n",
    "        gear = telemetry['gear']\n",
    "\n",
    "        # reward = average of speed_buffer of last 10 steps\n",
    "        self.speed_buffer.append(speed)\n",
    "        if len(self.speed_buffer) > 50:\n",
    "            self.speed_buffer.pop(0)\n",
    "        speed_av = sum(self.speed_buffer) / len(self.speed_buffer)\n",
    "\n",
    "        # Reward function\n",
    "        reward = speed_av*0.1\n",
    "        #print(reward)\n",
    "        if speed_av < 20:\n",
    "            reward -= 0.1\n",
    "\n",
    "        if checkpoint!=0:\n",
    "            reward += 20\n",
    "        \n",
    "        if finished:\n",
    "            reward += 100  # Bonus reward for finishing the race\n",
    "            self.gamepad.press_a()\n",
    "            self.terminated = True\n",
    "            # press improve to restart\n",
    "\n",
    "        # if \n",
    "        if speed_av < 2 and acceleration <0.1 and time.time() - self.time_start > 5:\n",
    "            reward -= 0.1\n",
    "            self.terminated = True\n",
    "\n",
    "        \n",
    "        if self.steps % 100 == 0:\n",
    "            print(f\"step: {self.steps} / {steps}\")\n",
    "\n",
    "        self.reward = reward\n",
    "        truncated = False\n",
    "        terminated = self.terminated\n",
    "        info = {\n",
    "            'speed': speed,\n",
    "            'position': position,\n",
    "            'checkpoint': checkpoint,\n",
    "            'lap': lap,\n",
    "        }\n",
    "        return obs, reward, terminated, truncated, info\n",
    "    \n",
    "    def make_env():\n",
    "        def _init():\n",
    "            env = TrackmaniaEnv()\n",
    "            return env\n",
    "        return _init\n",
    "\n",
    "    def close(self):\n",
    "        del self.window\n",
    "        self.client.close()  # Close the TMClient connection"
   ]
  },
  {
   "cell_type": "code",
   "execution_count": 20,
   "metadata": {},
   "outputs": [],
   "source": [
    "class CustomWandbCallback(BaseCallback):\n",
    "    def __init__(self, verbose=0):\n",
    "        super().__init__(verbose)\n",
    "        \n",
    "    def _on_step(self) -> bool:\n",
    "        # Log only available metrics\n",
    "        wandb.log({\n",
    "            'reward': self.locals['rewards'],\n",
    "            'timesteps': self.num_timesteps\n",
    "        })\n",
    "        \n",
    "        # Log episode info if available\n",
    "        info = self.locals.get('infos', [{}])[0]\n",
    "        if info:\n",
    "            wandb.log({\n",
    "                'speed': info.get('speed', 0),\n",
    "                'checkpoint': info.get('checkpoint', 0),\n",
    "                'lap': info.get('lap', 0),\n",
    "                'episode_duration': info.get('episode_duration', 0)\n",
    "            })\n",
    "        return True"
   ]
  },
  {
   "cell_type": "code",
   "execution_count": null,
   "metadata": {},
   "outputs": [
    {
     "name": "stdout",
     "output_type": "stream",
     "text": [
      "Attempting to connect to localhost:9000 (Attempt 1/5)...\n",
      "Connected successfully!\n",
      "Gamepad initialized\n",
      "Using cuda device\n"
     ]
    },
    {
     "ename": "KeyboardInterrupt",
     "evalue": "",
     "output_type": "error",
     "traceback": [
      "\u001b[0;31m---------------------------------------------------------------------------\u001b[0m",
      "\u001b[0;31mKeyboardInterrupt\u001b[0m                         Traceback (most recent call last)",
      "Cell \u001b[0;32mIn[14], line 15\u001b[0m\n\u001b[1;32m      7\u001b[0m model \u001b[38;5;241m=\u001b[39m SAC(\u001b[38;5;124m'\u001b[39m\u001b[38;5;124mCnnPolicy\u001b[39m\u001b[38;5;124m'\u001b[39m, \n\u001b[1;32m      8\u001b[0m             env, \n\u001b[1;32m      9\u001b[0m             verbose\u001b[38;5;241m=\u001b[39m\u001b[38;5;241m1\u001b[39m,\n\u001b[1;32m     10\u001b[0m             buffer_size\u001b[38;5;241m=\u001b[39m\u001b[38;5;241m400000\u001b[39m)\n\u001b[1;32m     14\u001b[0m \u001b[38;5;66;03m# Train the model with the WandbCallback\u001b[39;00m\n\u001b[0;32m---> 15\u001b[0m \u001b[43mmodel\u001b[49m\u001b[38;5;241;43m.\u001b[39;49m\u001b[43mlearn\u001b[49m\u001b[43m(\u001b[49m\u001b[43mtotal_timesteps\u001b[49m\u001b[38;5;241;43m=\u001b[39;49m\u001b[43msteps\u001b[49m\u001b[43m,\u001b[49m\u001b[43m \u001b[49m\u001b[43mcallback\u001b[49m\u001b[38;5;241;43m=\u001b[39;49m\u001b[43mCustomWandbCallback\u001b[49m\u001b[43m(\u001b[49m\u001b[43m)\u001b[49m\u001b[43m)\u001b[49m\n\u001b[1;32m     16\u001b[0m model\u001b[38;5;241m.\u001b[39msave(\u001b[38;5;124m\"\u001b[39m\u001b[38;5;124mmodels/trackmania_sac\u001b[39m\u001b[38;5;124m\"\u001b[39m)\n\u001b[1;32m     18\u001b[0m \u001b[38;5;66;03m# Close the environment\u001b[39;00m\n",
      "File \u001b[0;32m~/ml/trackmania/venv/lib/python3.12/site-packages/stable_baselines3/sac/sac.py:307\u001b[0m, in \u001b[0;36mSAC.learn\u001b[0;34m(self, total_timesteps, callback, log_interval, tb_log_name, reset_num_timesteps, progress_bar)\u001b[0m\n\u001b[1;32m    298\u001b[0m \u001b[38;5;28;01mdef\u001b[39;00m \u001b[38;5;21mlearn\u001b[39m(\n\u001b[1;32m    299\u001b[0m     \u001b[38;5;28mself\u001b[39m: SelfSAC,\n\u001b[1;32m    300\u001b[0m     total_timesteps: \u001b[38;5;28mint\u001b[39m,\n\u001b[0;32m   (...)\u001b[0m\n\u001b[1;32m    305\u001b[0m     progress_bar: \u001b[38;5;28mbool\u001b[39m \u001b[38;5;241m=\u001b[39m \u001b[38;5;28;01mFalse\u001b[39;00m,\n\u001b[1;32m    306\u001b[0m ) \u001b[38;5;241m-\u001b[39m\u001b[38;5;241m>\u001b[39m SelfSAC:\n\u001b[0;32m--> 307\u001b[0m     \u001b[38;5;28;01mreturn\u001b[39;00m \u001b[38;5;28;43msuper\u001b[39;49m\u001b[43m(\u001b[49m\u001b[43m)\u001b[49m\u001b[38;5;241;43m.\u001b[39;49m\u001b[43mlearn\u001b[49m\u001b[43m(\u001b[49m\n\u001b[1;32m    308\u001b[0m \u001b[43m        \u001b[49m\u001b[43mtotal_timesteps\u001b[49m\u001b[38;5;241;43m=\u001b[39;49m\u001b[43mtotal_timesteps\u001b[49m\u001b[43m,\u001b[49m\n\u001b[1;32m    309\u001b[0m \u001b[43m        \u001b[49m\u001b[43mcallback\u001b[49m\u001b[38;5;241;43m=\u001b[39;49m\u001b[43mcallback\u001b[49m\u001b[43m,\u001b[49m\n\u001b[1;32m    310\u001b[0m \u001b[43m        \u001b[49m\u001b[43mlog_interval\u001b[49m\u001b[38;5;241;43m=\u001b[39;49m\u001b[43mlog_interval\u001b[49m\u001b[43m,\u001b[49m\n\u001b[1;32m    311\u001b[0m \u001b[43m        \u001b[49m\u001b[43mtb_log_name\u001b[49m\u001b[38;5;241;43m=\u001b[39;49m\u001b[43mtb_log_name\u001b[49m\u001b[43m,\u001b[49m\n\u001b[1;32m    312\u001b[0m \u001b[43m        \u001b[49m\u001b[43mreset_num_timesteps\u001b[49m\u001b[38;5;241;43m=\u001b[39;49m\u001b[43mreset_num_timesteps\u001b[49m\u001b[43m,\u001b[49m\n\u001b[1;32m    313\u001b[0m \u001b[43m        \u001b[49m\u001b[43mprogress_bar\u001b[49m\u001b[38;5;241;43m=\u001b[39;49m\u001b[43mprogress_bar\u001b[49m\u001b[43m,\u001b[49m\n\u001b[1;32m    314\u001b[0m \u001b[43m    \u001b[49m\u001b[43m)\u001b[49m\n",
      "File \u001b[0;32m~/ml/trackmania/venv/lib/python3.12/site-packages/stable_baselines3/common/off_policy_algorithm.py:328\u001b[0m, in \u001b[0;36mOffPolicyAlgorithm.learn\u001b[0;34m(self, total_timesteps, callback, log_interval, tb_log_name, reset_num_timesteps, progress_bar)\u001b[0m\n\u001b[1;32m    325\u001b[0m \u001b[38;5;28;01massert\u001b[39;00m \u001b[38;5;28misinstance\u001b[39m(\u001b[38;5;28mself\u001b[39m\u001b[38;5;241m.\u001b[39mtrain_freq, TrainFreq)  \u001b[38;5;66;03m# check done in _setup_learn()\u001b[39;00m\n\u001b[1;32m    327\u001b[0m \u001b[38;5;28;01mwhile\u001b[39;00m \u001b[38;5;28mself\u001b[39m\u001b[38;5;241m.\u001b[39mnum_timesteps \u001b[38;5;241m<\u001b[39m total_timesteps:\n\u001b[0;32m--> 328\u001b[0m     rollout \u001b[38;5;241m=\u001b[39m \u001b[38;5;28;43mself\u001b[39;49m\u001b[38;5;241;43m.\u001b[39;49m\u001b[43mcollect_rollouts\u001b[49m\u001b[43m(\u001b[49m\n\u001b[1;32m    329\u001b[0m \u001b[43m        \u001b[49m\u001b[38;5;28;43mself\u001b[39;49m\u001b[38;5;241;43m.\u001b[39;49m\u001b[43menv\u001b[49m\u001b[43m,\u001b[49m\n\u001b[1;32m    330\u001b[0m \u001b[43m        \u001b[49m\u001b[43mtrain_freq\u001b[49m\u001b[38;5;241;43m=\u001b[39;49m\u001b[38;5;28;43mself\u001b[39;49m\u001b[38;5;241;43m.\u001b[39;49m\u001b[43mtrain_freq\u001b[49m\u001b[43m,\u001b[49m\n\u001b[1;32m    331\u001b[0m \u001b[43m        \u001b[49m\u001b[43maction_noise\u001b[49m\u001b[38;5;241;43m=\u001b[39;49m\u001b[38;5;28;43mself\u001b[39;49m\u001b[38;5;241;43m.\u001b[39;49m\u001b[43maction_noise\u001b[49m\u001b[43m,\u001b[49m\n\u001b[1;32m    332\u001b[0m \u001b[43m        \u001b[49m\u001b[43mcallback\u001b[49m\u001b[38;5;241;43m=\u001b[39;49m\u001b[43mcallback\u001b[49m\u001b[43m,\u001b[49m\n\u001b[1;32m    333\u001b[0m \u001b[43m        \u001b[49m\u001b[43mlearning_starts\u001b[49m\u001b[38;5;241;43m=\u001b[39;49m\u001b[38;5;28;43mself\u001b[39;49m\u001b[38;5;241;43m.\u001b[39;49m\u001b[43mlearning_starts\u001b[49m\u001b[43m,\u001b[49m\n\u001b[1;32m    334\u001b[0m \u001b[43m        \u001b[49m\u001b[43mreplay_buffer\u001b[49m\u001b[38;5;241;43m=\u001b[39;49m\u001b[38;5;28;43mself\u001b[39;49m\u001b[38;5;241;43m.\u001b[39;49m\u001b[43mreplay_buffer\u001b[49m\u001b[43m,\u001b[49m\n\u001b[1;32m    335\u001b[0m \u001b[43m        \u001b[49m\u001b[43mlog_interval\u001b[49m\u001b[38;5;241;43m=\u001b[39;49m\u001b[43mlog_interval\u001b[49m\u001b[43m,\u001b[49m\n\u001b[1;32m    336\u001b[0m \u001b[43m    \u001b[49m\u001b[43m)\u001b[49m\n\u001b[1;32m    338\u001b[0m     \u001b[38;5;28;01mif\u001b[39;00m \u001b[38;5;129;01mnot\u001b[39;00m rollout\u001b[38;5;241m.\u001b[39mcontinue_training:\n\u001b[1;32m    339\u001b[0m         \u001b[38;5;28;01mbreak\u001b[39;00m\n",
      "File \u001b[0;32m~/ml/trackmania/venv/lib/python3.12/site-packages/stable_baselines3/common/off_policy_algorithm.py:560\u001b[0m, in \u001b[0;36mOffPolicyAlgorithm.collect_rollouts\u001b[0;34m(self, env, callback, train_freq, replay_buffer, action_noise, learning_starts, log_interval)\u001b[0m\n\u001b[1;32m    557\u001b[0m actions, buffer_actions \u001b[38;5;241m=\u001b[39m \u001b[38;5;28mself\u001b[39m\u001b[38;5;241m.\u001b[39m_sample_action(learning_starts, action_noise, env\u001b[38;5;241m.\u001b[39mnum_envs)\n\u001b[1;32m    559\u001b[0m \u001b[38;5;66;03m# Rescale and perform action\u001b[39;00m\n\u001b[0;32m--> 560\u001b[0m new_obs, rewards, dones, infos \u001b[38;5;241m=\u001b[39m \u001b[43menv\u001b[49m\u001b[38;5;241;43m.\u001b[39;49m\u001b[43mstep\u001b[49m\u001b[43m(\u001b[49m\u001b[43mactions\u001b[49m\u001b[43m)\u001b[49m\n\u001b[1;32m    562\u001b[0m \u001b[38;5;28mself\u001b[39m\u001b[38;5;241m.\u001b[39mnum_timesteps \u001b[38;5;241m+\u001b[39m\u001b[38;5;241m=\u001b[39m env\u001b[38;5;241m.\u001b[39mnum_envs\n\u001b[1;32m    563\u001b[0m num_collected_steps \u001b[38;5;241m+\u001b[39m\u001b[38;5;241m=\u001b[39m \u001b[38;5;241m1\u001b[39m\n",
      "File \u001b[0;32m~/ml/trackmania/venv/lib/python3.12/site-packages/stable_baselines3/common/vec_env/base_vec_env.py:206\u001b[0m, in \u001b[0;36mVecEnv.step\u001b[0;34m(self, actions)\u001b[0m\n\u001b[1;32m    199\u001b[0m \u001b[38;5;250m\u001b[39m\u001b[38;5;124;03m\"\"\"\u001b[39;00m\n\u001b[1;32m    200\u001b[0m \u001b[38;5;124;03mStep the environments with the given action\u001b[39;00m\n\u001b[1;32m    201\u001b[0m \n\u001b[1;32m    202\u001b[0m \u001b[38;5;124;03m:param actions: the action\u001b[39;00m\n\u001b[1;32m    203\u001b[0m \u001b[38;5;124;03m:return: observation, reward, done, information\u001b[39;00m\n\u001b[1;32m    204\u001b[0m \u001b[38;5;124;03m\"\"\"\u001b[39;00m\n\u001b[1;32m    205\u001b[0m \u001b[38;5;28mself\u001b[39m\u001b[38;5;241m.\u001b[39mstep_async(actions)\n\u001b[0;32m--> 206\u001b[0m \u001b[38;5;28;01mreturn\u001b[39;00m \u001b[38;5;28;43mself\u001b[39;49m\u001b[38;5;241;43m.\u001b[39;49m\u001b[43mstep_wait\u001b[49m\u001b[43m(\u001b[49m\u001b[43m)\u001b[49m\n",
      "File \u001b[0;32m~/ml/trackmania/venv/lib/python3.12/site-packages/stable_baselines3/common/vec_env/dummy_vec_env.py:58\u001b[0m, in \u001b[0;36mDummyVecEnv.step_wait\u001b[0;34m(self)\u001b[0m\n\u001b[1;32m     55\u001b[0m \u001b[38;5;28;01mdef\u001b[39;00m \u001b[38;5;21mstep_wait\u001b[39m(\u001b[38;5;28mself\u001b[39m) \u001b[38;5;241m-\u001b[39m\u001b[38;5;241m>\u001b[39m VecEnvStepReturn:\n\u001b[1;32m     56\u001b[0m     \u001b[38;5;66;03m# Avoid circular imports\u001b[39;00m\n\u001b[1;32m     57\u001b[0m     \u001b[38;5;28;01mfor\u001b[39;00m env_idx \u001b[38;5;129;01min\u001b[39;00m \u001b[38;5;28mrange\u001b[39m(\u001b[38;5;28mself\u001b[39m\u001b[38;5;241m.\u001b[39mnum_envs):\n\u001b[0;32m---> 58\u001b[0m         obs, \u001b[38;5;28mself\u001b[39m\u001b[38;5;241m.\u001b[39mbuf_rews[env_idx], terminated, truncated, \u001b[38;5;28mself\u001b[39m\u001b[38;5;241m.\u001b[39mbuf_infos[env_idx] \u001b[38;5;241m=\u001b[39m \u001b[38;5;28;43mself\u001b[39;49m\u001b[38;5;241;43m.\u001b[39;49m\u001b[43menvs\u001b[49m\u001b[43m[\u001b[49m\u001b[43menv_idx\u001b[49m\u001b[43m]\u001b[49m\u001b[38;5;241;43m.\u001b[39;49m\u001b[43mstep\u001b[49m\u001b[43m(\u001b[49m\n\u001b[1;32m     59\u001b[0m \u001b[43m            \u001b[49m\u001b[38;5;28;43mself\u001b[39;49m\u001b[38;5;241;43m.\u001b[39;49m\u001b[43mactions\u001b[49m\u001b[43m[\u001b[49m\u001b[43menv_idx\u001b[49m\u001b[43m]\u001b[49m\n\u001b[1;32m     60\u001b[0m \u001b[43m        \u001b[49m\u001b[43m)\u001b[49m\n\u001b[1;32m     61\u001b[0m         \u001b[38;5;66;03m# convert to SB3 VecEnv api\u001b[39;00m\n\u001b[1;32m     62\u001b[0m         \u001b[38;5;28mself\u001b[39m\u001b[38;5;241m.\u001b[39mbuf_dones[env_idx] \u001b[38;5;241m=\u001b[39m terminated \u001b[38;5;129;01mor\u001b[39;00m truncated\n",
      "Cell \u001b[0;32mIn[12], line 57\u001b[0m, in \u001b[0;36mTrackmaniaEnv.step\u001b[0;34m(self, action)\u001b[0m\n\u001b[1;32m     55\u001b[0m \u001b[38;5;28mself\u001b[39m\u001b[38;5;241m.\u001b[39mprev_action \u001b[38;5;241m=\u001b[39m action\n\u001b[1;32m     56\u001b[0m obs \u001b[38;5;241m=\u001b[39m \u001b[38;5;28mself\u001b[39m\u001b[38;5;241m.\u001b[39mwindow\u001b[38;5;241m.\u001b[39mcapture()  \u001b[38;5;66;03m# Capture the current image\u001b[39;00m\n\u001b[0;32m---> 57\u001b[0m telemetry \u001b[38;5;241m=\u001b[39m \u001b[38;5;28;43mself\u001b[39;49m\u001b[38;5;241;43m.\u001b[39;49m\u001b[43mclient\u001b[49m\u001b[38;5;241;43m.\u001b[39;49m\u001b[43mretrieve_data\u001b[49m\u001b[43m(\u001b[49m\u001b[43m)\u001b[49m  \u001b[38;5;66;03m# Retrieve the telemetry data\u001b[39;00m\n\u001b[1;32m     59\u001b[0m \u001b[38;5;66;03m# Process telemetry data to compute the reward and determine if the episode is done\u001b[39;00m\n\u001b[1;32m     60\u001b[0m checkpoint \u001b[38;5;241m=\u001b[39m telemetry[\u001b[38;5;124m'\u001b[39m\u001b[38;5;124mcheckpoint\u001b[39m\u001b[38;5;124m'\u001b[39m]\n",
      "File \u001b[0;32m~/ml/trackmania/trackmaniarl/gettelemetry.py:146\u001b[0m, in \u001b[0;36mTMClient.retrieve_data\u001b[0;34m(self, sleep_if_empty, timeout)\u001b[0m\n\u001b[1;32m    143\u001b[0m \u001b[38;5;28;01mif\u001b[39;00m time\u001b[38;5;241m.\u001b[39mtime() \u001b[38;5;241m-\u001b[39m start_time \u001b[38;5;241m>\u001b[39m timeout:\n\u001b[1;32m    144\u001b[0m     \u001b[38;5;28;01mraise\u001b[39;00m \u001b[38;5;167;01mTimeoutError\u001b[39;00m(\u001b[38;5;124mf\u001b[39m\u001b[38;5;124m\"\u001b[39m\u001b[38;5;124mNo data received for \u001b[39m\u001b[38;5;132;01m{\u001b[39;00mtimeout\u001b[38;5;132;01m}\u001b[39;00m\u001b[38;5;124m seconds\u001b[39m\u001b[38;5;124m\"\u001b[39m)\n\u001b[0;32m--> 146\u001b[0m \u001b[43mtime\u001b[49m\u001b[38;5;241;43m.\u001b[39;49m\u001b[43msleep\u001b[49m\u001b[43m(\u001b[49m\u001b[43msleep_if_empty\u001b[49m\u001b[43m)\u001b[49m\n",
      "\u001b[0;31mKeyboardInterrupt\u001b[0m: "
     ]
    },
    {
     "name": "stdout",
     "output_type": "stream",
     "text": [
      "Connection error: [Errno 104] Connection reset by peer\n",
      "Connection lost, attempting to reconnect...\n",
      "Attempting to connect to localhost:9000 (Attempt 1/5)...\n",
      "Connection refused. Retrying in 1 second...\n",
      "Attempting to connect to localhost:9000 (Attempt 2/5)...\n",
      "Connected successfully!\n",
      "Connection error: [Errno 104] Connection reset by peer\n",
      "Connection lost, attempting to reconnect...\n",
      "Attempting to connect to localhost:9000 (Attempt 1/5)...\n",
      "Connection refused. Retrying in 1 second...\n",
      "Attempting to connect to localhost:9000 (Attempt 2/5)...\n",
      "Connection refused. Retrying in 1 second...\n",
      "Attempting to connect to localhost:9000 (Attempt 3/5)...\n",
      "Connection refused. Retrying in 1 second...\n",
      "Attempting to connect to localhost:9000 (Attempt 4/5)...\n",
      "Connection refused. Retrying in 1 second...\n",
      "Attempting to connect to localhost:9000 (Attempt 5/5)...\n",
      "Connection refused. Retrying in 1 second...\n",
      "Max reconnection attempts reached. Stopping reconnection attempts.\n"
     ]
    }
   ],
   "source": [
    "# create environment\n",
    "env = TrackmaniaEnv()\n",
    "env.reset()\n",
    "env = DummyVecEnv([lambda: env])\n",
    "\n",
    "# Create the SAC model\n",
    "model = SAC('CnnPolicy', \n",
    "            env, \n",
    "            verbose=1,\n",
    "            buffer_size=400000)\n",
    "\n",
    "\n",
    "\n",
    "# Train the model with the WandbCallback\n",
    "model.learn(total_timesteps=steps, callback=CustomWandbCallback())\n",
    "model.save(\"models/trackmania_sac\")\n",
    "\n",
    "# Close the environment\n",
    "env.close()"
   ]
  }
 ],
 "metadata": {
  "kernelspec": {
   "display_name": "venv",
   "language": "python",
   "name": "python3"
  },
  "language_info": {
   "codemirror_mode": {
    "name": "ipython",
    "version": 3
   },
   "file_extension": ".py",
   "mimetype": "text/x-python",
   "name": "python",
   "nbconvert_exporter": "python",
   "pygments_lexer": "ipython3",
   "version": "3.12.3"
  }
 },
 "nbformat": 4,
 "nbformat_minor": 2
}
